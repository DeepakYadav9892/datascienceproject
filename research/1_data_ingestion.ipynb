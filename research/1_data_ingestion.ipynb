{
 "cells": [
  {
   "cell_type": "code",
   "execution_count": 45,
   "id": "96a6b88c",
   "metadata": {},
   "outputs": [],
   "source": [
    "import os"
   ]
  },
  {
   "cell_type": "code",
   "execution_count": 46,
   "id": "fb8154aa",
   "metadata": {},
   "outputs": [
    {
     "data": {
      "text/plain": [
       "'c:\\\\Users\\\\dyasu\\\\OneDrive\\\\Desktop\\\\MLOPS\\\\mlopsproject\\\\datascienceproject'"
      ]
     },
     "execution_count": 46,
     "metadata": {},
     "output_type": "execute_result"
    }
   ],
   "source": [
    "%pwd \n"
   ]
  },
  {
   "cell_type": "code",
   "execution_count": 47,
   "id": "03df631f",
   "metadata": {},
   "outputs": [],
   "source": [
    "os.chdir(\"../\")"
   ]
  },
  {
   "cell_type": "code",
   "execution_count": 48,
   "id": "1a19e5cb",
   "metadata": {},
   "outputs": [
    {
     "data": {
      "text/plain": [
       "'c:\\\\Users\\\\dyasu\\\\OneDrive\\\\Desktop\\\\MLOPS\\\\mlopsproject'"
      ]
     },
     "execution_count": 48,
     "metadata": {},
     "output_type": "execute_result"
    }
   ],
   "source": [
    "%pwd"
   ]
  },
  {
   "cell_type": "code",
   "execution_count": 75,
   "id": "56f91f01",
   "metadata": {},
   "outputs": [],
   "source": [
    "from dataclasses import dataclass\n",
    "from pathlib import Path \n",
    "\n",
    "@dataclass\n",
    "class DataIngestionconfig:\n",
    "    root_dir:Path\n",
    "    source_URL:str \n",
    "    local_data_file:Path\n",
    "    unzip_dir=Path\n",
    "    "
   ]
  },
  {
   "cell_type": "code",
   "execution_count": 76,
   "id": "b8791018",
   "metadata": {},
   "outputs": [],
   "source": [
    "from src.data_science_project.constants import *\n",
    "from src.data_science_project.utils.common import read_yaml,create_directories\n"
   ]
  },
  {
   "cell_type": "code",
   "execution_count": 77,
   "id": "e62eced5",
   "metadata": {},
   "outputs": [],
   "source": [
    "import yaml\n",
    "from dataclasses import dataclass\n",
    "from pathlib import Path\n",
    "\n",
    "@dataclass\n",
    "class DataIngestionConfig:\n",
    "    root_dir: str\n",
    "    source_URL: str\n",
    "    local_data_file: str\n",
    "    unzip_dir: str\n",
    "\n",
    "class ConfigurationManager:\n",
    "    def __init__(self, config_filepath=\"config.yaml\"):\n",
    "        with open(config_filepath) as yaml_file:\n",
    "            self.config = yaml.safe_load(yaml_file)\n",
    "\n",
    "    def get_data_ingestion_config(self) -> DataIngestionConfig:\n",
    "        config = self.config['data_ingestion']\n",
    "        os.makedirs(config['root_dir'], exist_ok=True)\n",
    "        data_ingestion_config = DataIngestionConfig(\n",
    "            root_dir=config['root_dir'],\n",
    "            source_URL=config['source_URL'],\n",
    "            local_data_file=config['local_data_file'],\n",
    "            unzip_dir=config['unzip_dir']\n",
    "        )\n",
    "        return data_ingestion_config\n"
   ]
  },
  {
   "cell_type": "code",
   "execution_count": 78,
   "id": "3e75713c",
   "metadata": {},
   "outputs": [],
   "source": [
    "import os \n",
    "import urllib.request as request \n",
    "from src.data_science_project import logger \n",
    "import zipfile \n",
    "\n",
    "\n"
   ]
  },
  {
   "cell_type": "code",
   "execution_count": 79,
   "id": "93cc02d6",
   "metadata": {},
   "outputs": [],
   "source": [
    "##component data ingestion component \n",
    "import urllib\n",
    "\n",
    "\n",
    "class DataIngestion:\n",
    "\n",
    "    def __init__(self, config:DataIngestionconfig):\n",
    "        self.config = config\n",
    "\n",
    "    ## Downloading the zip file\n",
    "    def download_file(self):\n",
    "        if not os.path.exists(self.config.local_data_file):\n",
    "            filename, headers = urllib.request.urlretrieve(\n",
    "                url=self.config.source_URL,\n",
    "                filename=self.config.local_data_file\n",
    "            )\n",
    "            logger.info(f\"{filename} downloaded with following info:\\n{headers}\")\n",
    "        else:\n",
    "            logger.info(f\"File already exists of size {os.path.getsize(self.config.local_data_file)/1024:.2f} KB\")\n",
    "\n",
    "    def extract_zip_file(self):\n",
    "        \"\"\"\n",
    "        Extracts the zip file into the data directory \n",
    "        Function returns None \n",
    "        \"\"\"\n",
    "        unzip_path = self.config.unzip_dir\n",
    "        os.makedirs(unzip_path, exist_ok=True)\n",
    "        with zipfile.ZipFile(self.config.local_data_file, 'r') as zip_ref:\n",
    "            zip_ref.extractall(unzip_path)\n",
    "        logger.info(f\"Data extracted to {unzip_path}\")\n",
    "\n",
    "\n"
   ]
  },
  {
   "cell_type": "code",
   "execution_count": null,
   "id": "a2ec73ce",
   "metadata": {},
   "outputs": [],
   "source": [
    "# ✅ Correct try–except (class ke bahar)\n",
    "try:\n",
    "    config = ConfigurationManager()\n",
    "    data_ingestion_config = config.get_data_ingestion_config()\n",
    "    data_ingestion = DataIngestion(config=data_ingestion_config)\n",
    "    data_ingestion.download_file()\n",
    "    data_ingestion.extract_zip_file()\n",
    "\n",
    "except Exception as e:"
   ]
  },
  {
   "cell_type": "code",
   "execution_count": null,
   "id": "beb43791",
   "metadata": {},
   "outputs": [],
   "source": []
  },
  {
   "cell_type": "code",
   "execution_count": null,
   "id": "71e22785",
   "metadata": {},
   "outputs": [],
   "source": []
  },
  {
   "cell_type": "code",
   "execution_count": null,
   "id": "38e17c5b",
   "metadata": {},
   "outputs": [],
   "source": []
  }
 ],
 "metadata": {
  "kernelspec": {
   "display_name": "Python 3",
   "language": "python",
   "name": "python3"
  },
  "language_info": {
   "codemirror_mode": {
    "name": "ipython",
    "version": 3
   },
   "file_extension": ".py",
   "mimetype": "text/x-python",
   "name": "python",
   "nbconvert_exporter": "python",
   "pygments_lexer": "ipython3",
   "version": "3.10.0"
  }
 },
 "nbformat": 4,
 "nbformat_minor": 5
}
